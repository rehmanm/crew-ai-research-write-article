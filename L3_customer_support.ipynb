{
 "cells": [
  {
   "cell_type": "code",
   "execution_count": null,
   "id": "eb0ec54d-2412-455d-b2f8-673f1e715484",
   "metadata": {},
   "outputs": [],
   "source": [
    "%pip install --quiet -U crewai crewai_tools langchain_community crewai[google-genai]"
   ]
  },
  {
   "cell_type": "code",
   "execution_count": null,
   "id": "271ff4f3-97f9-42bf-bde4-b7f2f36fb99f",
   "metadata": {},
   "outputs": [],
   "source": [
    "import warnings\n",
    "warnings.filterwarnings(\"ignore\")"
   ]
  },
  {
   "cell_type": "code",
   "execution_count": null,
   "id": "af283896-e58c-463a-a13a-2841117084aa",
   "metadata": {},
   "outputs": [],
   "source": [
    "from crewai import Agent, Task, Crew, LLM"
   ]
  },
  {
   "cell_type": "code",
   "execution_count": null,
   "id": "0a6650a6-258f-48fd-9d0b-93972cffb4d3",
   "metadata": {},
   "outputs": [],
   "source": [
    "import os\n",
    "\n",
    "from utils import get_gemini_api_key\n",
    "\n",
    "gemini_api_key = get_gemini_api_key()\n",
    "\n",
    "llm = LLM(model=\"gemini/gemini-2.0-flash\")"
   ]
  },
  {
   "cell_type": "markdown",
   "id": "27c73eb1-c890-4c92-b562-72a3859f18c7",
   "metadata": {},
   "source": [
    "## Role Playing, Focus and Cooperation"
   ]
  },
  {
   "cell_type": "code",
   "execution_count": null,
   "id": "48063e09-b6f6-4813-be74-28ec18c46483",
   "metadata": {},
   "outputs": [],
   "source": [
    "support_agent = Agent(\n",
    "    role = \"Senior Support Representative\",\n",
    "    goal = \"\"\"\n",
    "        Be the most freindly and helpful\n",
    "        support representative in your team\n",
    "    \"\"\",\n",
    "    backstory = \"\"\"\n",
    "        You work at crewAI (https://crewai.com) and\n",
    "        are now working on providing\n",
    "        support to {customer}, a super important customer\n",
    "        for your company.\n",
    "        You need to make sure that you provide the best support!\n",
    "        Make sure to provide full complete answers,\n",
    "        and make no assumptions.\n",
    "    \"\"\",\n",
    "    allow_deletion = False,\n",
    "    verbose = True,\n",
    "    llm = llm\n",
    ")"
   ]
  },
  {
   "cell_type": "markdown",
   "id": "e0229da9-6a44-4a39-90d9-c6b05be2e691",
   "metadata": {},
   "source": [
    "- By not setting ```allow_delegation = False ```, ```allow_delegation``` take its default value of being ```True```.\n",
    "- This means the agent *can* delegate its work to another agent which is better suited to do a particular tasks."
   ]
  },
  {
   "cell_type": "code",
   "execution_count": null,
   "id": "ee890693-d509-4edd-aa2a-51d81bfd0382",
   "metadata": {},
   "outputs": [],
   "source": [
    "support_quality_assurance_agent = Agent(\n",
    "    role = \"Support Quality Assurance Specialist\",\n",
    "    goal = \"\"\"\n",
    "        Get recognition for providing the \n",
    "        best support quality assurance in your team. \n",
    "    \"\"\",\n",
    "    backstory =\"\"\"\n",
    "        You work at crewAI (https://crewai.com) and\n",
    "        are now working with your team \n",
    "        on a request from {customer} ensuring that\n",
    "        the support representative is \n",
    "        providing the best support possible.\n",
    "        You need to make sure the support representative\n",
    "        is providing full\n",
    "        complete answers, and make no assumptions.\n",
    "    \"\"\",\n",
    "    verbose = True,\n",
    "    llm = llm\n",
    ")"
   ]
  },
  {
   "cell_type": "markdown",
   "id": "def1d707-a9c6-4c83-b687-95ebf08f0ddc",
   "metadata": {},
   "source": [
    "## Tools, Guardrails and Memory"
   ]
  },
  {
   "cell_type": "markdown",
   "id": "ae45c003-6153-4aec-8bdf-461579242edd",
   "metadata": {},
   "source": [
    "### Tools"
   ]
  },
  {
   "cell_type": "code",
   "execution_count": null,
   "id": "1fb2ef2b-6373-479f-a7c5-ec0fd1ac056c",
   "metadata": {},
   "outputs": [],
   "source": [
    "from crewai_tools import SerperDevTool, \\\n",
    "                          ScrapeWebsiteTool, \\\n",
    "                          WebsiteSearchTool"
   ]
  },
  {
   "cell_type": "markdown",
   "id": "bd6b9e7b-dd29-4579-94ad-d123b5fa2d82",
   "metadata": {},
   "source": [
    "Possible Custom Tools\n",
    "- Load customer data\n",
    "- Tap into previous conversations\n",
    "- Load data from a CRM\n",
    "- Checking existing bug reports\n",
    "- Checking existing feature requests\n",
    "- Checking ongoing tickets\n",
    "- ... and more"
   ]
  },
  {
   "cell_type": "code",
   "execution_count": null,
   "id": "281c5be9-ab0f-4d13-8581-f0e9526e42d6",
   "metadata": {},
   "outputs": [],
   "source": [
    "docs_scrape_tool = ScrapeWebsiteTool(\n",
    "    website_url=\"https://docs.crewai.com/how-to/Creating-a-Crew-and-kick-it-off/\"\n",
    ")"
   ]
  },
  {
   "cell_type": "code",
   "execution_count": null,
   "id": "e664b83f-42ad-4d13-824c-293a3a290568",
   "metadata": {},
   "outputs": [],
   "source": [
    "inquiry_resolution = Task(\n",
    "    description=\"\"\"\n",
    "    {customer} just reached out with a super important ask\"\n",
    "    {inquiry}\n",
    "    {person} from {customer} is the one that reached out.\n",
    "    Make sure to use everything you  know\n",
    "    to provide the best support possible.\n",
    "    You must strive to provide a complete\n",
    "    and accurate response to the customer's inquiry.\n",
    "    \"\"\",\n",
    "    expected_output = \"\"\"\n",
    "    A detail, informative response to the\n",
    "    customer's inquiry that addresses\n",
    "    all aspects of their questions.\n",
    "    The response should include references\n",
    "    to everything you used to find the answer,\n",
    "    Ensure the answer is complete,\n",
    "    leaving no question unanswered, and maintain a helpful and friendly\n",
    "    tone throughout.\n",
    "    \n",
    "    \"\"\",\n",
    "    tools = [docs_scrape_tool],\n",
    "    agent=support_agent\n",
    ")"
   ]
  },
  {
   "cell_type": "code",
   "execution_count": null,
   "id": "09c4d509-5d02-4be9-9b33-d8e5924bb9ec",
   "metadata": {},
   "outputs": [],
   "source": [
    "quality_assurance_review = Task(\n",
    "    description = \"\"\"\n",
    "        Review the response drafted by the Senior Support Representative for {customer}'s inquiry. \n",
    "        Ensure that the answer is comprehensive, accurate, and adheres to the \n",
    "\t\thigh-quality standards expected for customer support.\n",
    "        Verify that all parts of the customer's inquiry \n",
    "        have been addressed \n",
    "\t\tthoroughly, with a helpful and friendly tone.\n",
    "        Check for references and sources used to \n",
    "        find the information, \n",
    "\t\tensuring the response is well-supported and \n",
    "        leaves no questions unanswered.\n",
    "    \"\"\",\n",
    "    expected_output=\"\"\"\n",
    "        A final, detailed, and informative response\n",
    "        ready to be sent to the customer.\n",
    "        This response should fully address the \n",
    "        customer's inquiry, incorporating all \n",
    "\t\trelevant feedback and improvements.\n",
    "\t\tDon't be too formal, we are a chill and cool company \n",
    "\t    but maintain a professional and friendly tone throughout.\n",
    "    \"\"\",\n",
    "    agent = support_quality_assurance_agent\n",
    ")"
   ]
  },
  {
   "cell_type": "markdown",
   "id": "7446e3cd-2faa-4b6e-8ee4-44e6e0963448",
   "metadata": {},
   "source": [
    "## Creating the Crew"
   ]
  },
  {
   "cell_type": "markdown",
   "id": "b9da7fea-a4dc-4aab-9b7c-cd2e2dfa3622",
   "metadata": {},
   "source": [
    "### Memory"
   ]
  },
  {
   "cell_type": "code",
   "execution_count": null,
   "id": "61abb060-4031-4930-b8ee-a4ba7a7f58b6",
   "metadata": {},
   "outputs": [],
   "source": [
    "crew = Crew(\n",
    "    agent = [support_agent, support_quality_assurance_agent],\n",
    "    tasks = [inquiry_resolution, quality_assurance_review],\n",
    "    verbose = True,\n",
    "    memory = True\n",
    ")"
   ]
  },
  {
   "cell_type": "markdown",
   "id": "28a1d805-71c9-4573-8893-b0e4b3f9176d",
   "metadata": {},
   "source": [
    "### Running the Crew\n",
    "\n",
    "**Note**: LLMs can provide different outputs for they same input, so what you get might be different than what you see in the video.\n",
    "\n",
    "#### Guardrails\n",
    "- By running the execution below, you can see that the agents and the responses are within the scope of what we expect from them."
   ]
  },
  {
   "cell_type": "code",
   "execution_count": null,
   "id": "db2f252c-f463-4d7f-8c89-252a618cc7ec",
   "metadata": {},
   "outputs": [],
   "source": [
    "inputs = {\n",
    "    \"customer\": \"DeepLearningAI\",\n",
    "    \"person\": \"Andrew Ng\",\n",
    "    \"inquiry\": \"\"\"\n",
    "                I need to help with setting up a Crew\n",
    "                and kicking it off, specifically\n",
    "                how I can add memory to my crew?\n",
    "                Can you provide guidance?\n",
    "               \"\"\"\n",
    "}\n",
    "\n",
    "result = crew.kickoff(inputs=inputs)"
   ]
  },
  {
   "cell_type": "code",
   "execution_count": null,
   "id": "c6184e1e-4595-41b4-8025-cdfac4b56f9b",
   "metadata": {},
   "outputs": [],
   "source": [
    "from IPython.display import Markdown\n",
    "Markdown(result.raw)"
   ]
  },
  {
   "cell_type": "code",
   "execution_count": null,
   "id": "023e51fb-5e07-4c03-9743-2194c491d412",
   "metadata": {},
   "outputs": [],
   "source": []
  }
 ],
 "metadata": {
  "kernelspec": {
   "display_name": "Python 3 (ipykernel)",
   "language": "python",
   "name": "python3"
  },
  "language_info": {
   "codemirror_mode": {
    "name": "ipython",
    "version": 3
   },
   "file_extension": ".py",
   "mimetype": "text/x-python",
   "name": "python",
   "nbconvert_exporter": "python",
   "pygments_lexer": "ipython3",
   "version": "3.13.9"
  }
 },
 "nbformat": 4,
 "nbformat_minor": 5
}
